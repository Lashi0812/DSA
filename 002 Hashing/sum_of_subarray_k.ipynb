{
 "cells": [
  {
   "cell_type": "markdown",
   "source": [
    "# Given the array Count the subarray that has the sum equal to k"
   ],
   "metadata": {
    "collapsed": false,
    "pycharm": {
     "name": "#%% md\n"
    }
   }
  },
  {
   "cell_type": "code",
   "execution_count": 1,
   "outputs": [],
   "source": [
    "def solution(array,k):\n",
    "    # create the prefix array\n",
    "    prefix_array = [0]\n",
    "    for i in range(len(array)):\n",
    "        prefix_array.append(prefix_array[i]+array[i])\n",
    "    # Construct the Hash table\n",
    "    hash_array = dict()\n",
    "    count = 0\n",
    "    for i in range(len(prefix_array)):\n",
    "        check = prefix_array[i] - k\n",
    "        if check in hash_array:\n",
    "            for ele in hash_array[check]:\n",
    "                print(array[ele:i])\n",
    "                count+=1\n",
    "        else:\n",
    "            if prefix_array[i] in hash_array:\n",
    "                hash_array[prefix_array[i]].append(i)\n",
    "\n",
    "            else:\n",
    "                hash_array[prefix_array[i]] = [i]\n",
    "\n",
    "    return count\n",
    "\n",
    "\n",
    "\n"
   ],
   "metadata": {
    "collapsed": false,
    "pycharm": {
     "name": "#%%\n"
    }
   }
  },
  {
   "cell_type": "code",
   "execution_count": 2,
   "outputs": [
    {
     "name": "stdout",
     "output_type": "stream",
     "text": [
      "[10, 2, -2, -20]\n",
      "[2, -2, -20, 10]\n",
      "[-20, 10]\n"
     ]
    },
    {
     "data": {
      "text/plain": "3"
     },
     "execution_count": 2,
     "metadata": {},
     "output_type": "execute_result"
    }
   ],
   "source": [
    "array = [10,2,-2,-20,10]\n",
    "solution(array,-10)"
   ],
   "metadata": {
    "collapsed": false,
    "pycharm": {
     "name": "#%%\n"
    }
   }
  },
  {
   "cell_type": "code",
   "execution_count": 2,
   "outputs": [],
   "source": [],
   "metadata": {
    "collapsed": false,
    "pycharm": {
     "name": "#%%\n"
    }
   }
  }
 ],
 "metadata": {
  "kernelspec": {
   "display_name": "Python 3",
   "language": "python",
   "name": "python3"
  },
  "language_info": {
   "codemirror_mode": {
    "name": "ipython",
    "version": 2
   },
   "file_extension": ".py",
   "mimetype": "text/x-python",
   "name": "python",
   "nbconvert_exporter": "python",
   "pygments_lexer": "ipython2",
   "version": "2.7.6"
  }
 },
 "nbformat": 4,
 "nbformat_minor": 0
}