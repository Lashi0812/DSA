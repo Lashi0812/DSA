{
 "cells": [
  {
   "cell_type": "markdown",
   "source": [
    "# Given the array count the no of subarray with exactly k odd no"
   ],
   "metadata": {
    "collapsed": false,
    "pycharm": {
     "name": "#%% md\n"
    }
   }
  },
  {
   "cell_type": "code",
   "execution_count": 3,
   "outputs": [],
   "source": [
    "def solution(array,k):\n",
    "    # Convert the array into odd array\n",
    "    odd_array = [array[i]%2 for i in range(len(array))]\n",
    "\n",
    "    # Convert the odd array into prefix array\n",
    "    prefix_array = [0]\n",
    "    for i in range(len(array)):\n",
    "        prefix_array.append(prefix_array[i]+odd_array[i])\n",
    "\n",
    "\n",
    "\n",
    "    # find the pair that y-x =k\n",
    "    hash_array = {}\n",
    "    count = 0\n",
    "    for i in range(len(prefix_array)):\n",
    "        check = prefix_array[i] - k\n",
    "\n",
    "        if check in hash_array:\n",
    "            for ele in hash_array[check]:\n",
    "                print(array[ele:i])\n",
    "                count+=1\n",
    "        if prefix_array[i] in hash_array:\n",
    "            hash_array[prefix_array[i]].append(i)\n",
    "        else:\n",
    "            hash_array[prefix_array[i]] = [i]\n",
    "    return count\n",
    "\n"
   ],
   "metadata": {
    "collapsed": false,
    "pycharm": {
     "name": "#%%\n"
    }
   }
  },
  {
   "cell_type": "code",
   "execution_count": 4,
   "outputs": [
    {
     "name": "stdout",
     "output_type": "stream",
     "text": [
      "[2, 4, 1]\n",
      "[4, 1]\n",
      "[1]\n",
      "[3]\n",
      "[3, 8]\n"
     ]
    },
    {
     "data": {
      "text/plain": "5"
     },
     "execution_count": 4,
     "metadata": {},
     "output_type": "execute_result"
    }
   ],
   "source": [
    "array = [2,4,1,3,8]\n",
    "solution(array,1)"
   ],
   "metadata": {
    "collapsed": false,
    "pycharm": {
     "name": "#%%\n"
    }
   }
  },
  {
   "cell_type": "code",
   "execution_count": 5,
   "outputs": [
    {
     "name": "stdout",
     "output_type": "stream",
     "text": [
      "[2, 4, 1, 3]\n",
      "[4, 1, 3]\n",
      "[1, 3]\n",
      "[2, 4, 1, 3, 8]\n",
      "[4, 1, 3, 8]\n",
      "[1, 3, 8]\n"
     ]
    },
    {
     "data": {
      "text/plain": "6"
     },
     "execution_count": 5,
     "metadata": {},
     "output_type": "execute_result"
    }
   ],
   "source": [
    "array = [2,4,1,3,8]\n",
    "solution(array,2)"
   ],
   "metadata": {
    "collapsed": false,
    "pycharm": {
     "name": "#%%\n"
    }
   }
  },
  {
   "cell_type": "code",
   "execution_count": null,
   "outputs": [],
   "source": [],
   "metadata": {
    "collapsed": false,
    "pycharm": {
     "name": "#%%\n"
    }
   }
  }
 ],
 "metadata": {
  "kernelspec": {
   "display_name": "Python 3",
   "language": "python",
   "name": "python3"
  },
  "language_info": {
   "codemirror_mode": {
    "name": "ipython",
    "version": 2
   },
   "file_extension": ".py",
   "mimetype": "text/x-python",
   "name": "python",
   "nbconvert_exporter": "python",
   "pygments_lexer": "ipython2",
   "version": "2.7.6"
  }
 },
 "nbformat": 4,
 "nbformat_minor": 0
}