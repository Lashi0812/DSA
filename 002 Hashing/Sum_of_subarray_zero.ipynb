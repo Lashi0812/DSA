{
 "cells": [
  {
   "cell_type": "markdown",
   "source": [
    "# Given the array return the subarray that sum is zero"
   ],
   "metadata": {
    "collapsed": false,
    "pycharm": {
     "name": "#%% md\n"
    }
   }
  },
  {
   "cell_type": "code",
   "execution_count": 1,
   "outputs": [],
   "source": [
    "def subarray(array):\n",
    "    # Creating the prefix sum array\n",
    "    prefix_sum = [0]\n",
    "    for i in range(len(array)):\n",
    "        prefix_sum.append(prefix_sum[i] + array[i])\n",
    "\n",
    "    # Checking for the subarray that sum equal to zero\n",
    "    hash_array = dict()\n",
    "    for i in range(len(prefix_sum)):\n",
    "        if prefix_sum[i] in hash_array:\n",
    "            return array[hash_array[prefix_sum[i]]:i]\n",
    "        else:\n",
    "            hash_array[prefix_sum[i]] = i\n"
   ],
   "metadata": {
    "collapsed": false,
    "pycharm": {
     "name": "#%%\n"
    }
   }
  },
  {
   "cell_type": "code",
   "execution_count": 2,
   "outputs": [
    {
     "data": {
      "text/plain": "[3, 2, 1, -4, -2]"
     },
     "execution_count": 2,
     "metadata": {},
     "output_type": "execute_result"
    }
   ],
   "source": [
    "array = [3,2,1,-4,-2,4,6]\n",
    "subarray(array)"
   ],
   "metadata": {
    "collapsed": false,
    "pycharm": {
     "name": "#%%\n"
    }
   }
  },
  {
   "cell_type": "code",
   "execution_count": 3,
   "outputs": [
    {
     "data": {
      "text/plain": "[0]"
     },
     "execution_count": 3,
     "metadata": {},
     "output_type": "execute_result"
    }
   ],
   "source": [
    "array = [7,1,3,-2,4,-1,0,-1,4]\n",
    "subarray(array)"
   ],
   "metadata": {
    "collapsed": false,
    "pycharm": {
     "name": "#%%\n"
    }
   }
  },
  {
   "cell_type": "code",
   "execution_count": 4,
   "outputs": [
    {
     "data": {
      "text/plain": "[-2, 4, -1, -1]"
     },
     "execution_count": 4,
     "metadata": {},
     "output_type": "execute_result"
    }
   ],
   "source": [
    "array = [7,1,3,-2,4,-1,-1,4]\n",
    "subarray(array)"
   ],
   "metadata": {
    "collapsed": false,
    "pycharm": {
     "name": "#%%\n"
    }
   }
  },
  {
   "cell_type": "code",
   "execution_count": null,
   "outputs": [],
   "source": [],
   "metadata": {
    "collapsed": false,
    "pycharm": {
     "name": "#%%\n"
    }
   }
  }
 ],
 "metadata": {
  "kernelspec": {
   "display_name": "Python 3",
   "language": "python",
   "name": "python3"
  },
  "language_info": {
   "codemirror_mode": {
    "name": "ipython",
    "version": 2
   },
   "file_extension": ".py",
   "mimetype": "text/x-python",
   "name": "python",
   "nbconvert_exporter": "python",
   "pygments_lexer": "ipython2",
   "version": "2.7.6"
  }
 },
 "nbformat": 4,
 "nbformat_minor": 0
}