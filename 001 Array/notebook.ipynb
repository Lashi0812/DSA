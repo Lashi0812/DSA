{
 "cells": [
  {
   "cell_type": "code",
   "execution_count": 1,
   "metadata": {
    "collapsed": true,
    "pycharm": {
     "name": "#%%\n"
    }
   },
   "outputs": [],
   "source": [
    "def reverse(array):\n",
    "    arr = array.copy()\n",
    "    start = 0\n",
    "    end   = len(arr)-1\n",
    "    while start<end:\n",
    "        arr[start],arr[end] = arr[end],arr[start]\n",
    "        start+=1\n",
    "        end-=1\n",
    "    return arr\n"
   ]
  },
  {
   "cell_type": "code",
   "execution_count": 2,
   "outputs": [
    {
     "data": {
      "text/plain": "[6, 5, 4, 3, 2, 1]"
     },
     "execution_count": 2,
     "metadata": {},
     "output_type": "execute_result"
    }
   ],
   "source": [
    "array = [1,2,3,4,5,6]\n",
    "reverse(array)"
   ],
   "metadata": {
    "collapsed": false,
    "pycharm": {
     "name": "#%%\n"
    }
   }
  },
  {
   "cell_type": "code",
   "execution_count": 3,
   "outputs": [],
   "source": [
    "def reverse_subarray(array,start,end):\n",
    "    arr = array.copy()\n",
    "    while start<end:\n",
    "        arr[start],arr[end]= arr[end],arr[start]\n",
    "        start+=1\n",
    "        end-=1\n",
    "    return arr"
   ],
   "metadata": {
    "collapsed": false,
    "pycharm": {
     "name": "#%%\n"
    }
   }
  },
  {
   "cell_type": "code",
   "execution_count": 4,
   "outputs": [
    {
     "data": {
      "text/plain": "[1, 2, 5, 4, 3, 6]"
     },
     "execution_count": 4,
     "metadata": {},
     "output_type": "execute_result"
    }
   ],
   "source": [
    "reverse_subarray(array,2,4)"
   ],
   "metadata": {
    "collapsed": false,
    "pycharm": {
     "name": "#%%\n"
    }
   }
  },
  {
   "cell_type": "code",
   "execution_count": 5,
   "outputs": [
    {
     "data": {
      "text/plain": "[1, 2, 3, 4, 5, 6]"
     },
     "execution_count": 5,
     "metadata": {},
     "output_type": "execute_result"
    }
   ],
   "source": [
    "\n",
    "array"
   ],
   "metadata": {
    "collapsed": false,
    "pycharm": {
     "name": "#%%\n"
    }
   }
  },
  {
   "cell_type": "code",
   "execution_count": 6,
   "outputs": [],
   "source": [
    "def rotation_array(array,k):\n",
    "    temp = array.copy()\n",
    "    new = temp.copy()\n",
    "    n = len(array)\n",
    "    for i in range(n):\n",
    "        new[(i+k)%n] = temp[i]\n",
    "    return new\n",
    "\n"
   ],
   "metadata": {
    "collapsed": false,
    "pycharm": {
     "name": "#%%\n"
    }
   }
  },
  {
   "cell_type": "code",
   "execution_count": 7,
   "outputs": [
    {
     "data": {
      "text/plain": "[6, 5, 8, 3, 2, 9]"
     },
     "execution_count": 7,
     "metadata": {},
     "output_type": "execute_result"
    }
   ],
   "source": [
    "array = [3,2,9,6,5,8]\n",
    "rotation_array(array,3)"
   ],
   "metadata": {
    "collapsed": false,
    "pycharm": {
     "name": "#%%\n"
    }
   }
  },
  {
   "cell_type": "code",
   "execution_count": 8,
   "outputs": [],
   "source": [
    "# without extra space\n",
    "def rotation_array_space(array,k):\n",
    "    arr = array.copy()\n",
    "    n = len(arr)\n",
    "    subset_a = arr[n-k:]\n",
    "    subset_b = arr[:n-k]\n",
    "    return subset_a +subset_b"
   ],
   "metadata": {
    "collapsed": false,
    "pycharm": {
     "name": "#%%\n"
    }
   }
  },
  {
   "cell_type": "code",
   "execution_count": 9,
   "outputs": [
    {
     "data": {
      "text/plain": "[6, 5, 8, 3, 2, 9]"
     },
     "execution_count": 9,
     "metadata": {},
     "output_type": "execute_result"
    }
   ],
   "source": [
    "rotation_array_space(array,3)"
   ],
   "metadata": {
    "collapsed": false,
    "pycharm": {
     "name": "#%%\n"
    }
   }
  },
  {
   "cell_type": "code",
   "execution_count": 10,
   "outputs": [],
   "source": [
    "def rotation_array_without_space(array,k):\n",
    "    n = len(array)\n",
    "    k = k % n\n",
    "    start = 0\n",
    "    end = n -1\n",
    "    while start<end:\n",
    "        array[start],array[end] = array[end],array[start]\n",
    "        start+=1\n",
    "        end-=1\n",
    "    start = 0\n",
    "    end = k-1\n",
    "    while start<end:\n",
    "        array[start],array[end] = array[end],array[start]\n",
    "        start+=1\n",
    "        end-=1\n",
    "    start = k\n",
    "    end = len(array)-1\n",
    "    while start<end:\n",
    "        array[start],array[end] = array[end],array[start]\n",
    "        start+=1\n",
    "        end-=1\n",
    "    return array\n",
    "\n"
   ],
   "metadata": {
    "collapsed": false,
    "pycharm": {
     "name": "#%%\n"
    }
   }
  },
  {
   "cell_type": "code",
   "execution_count": 11,
   "outputs": [
    {
     "data": {
      "text/plain": "[3, 2, 9, 6, 5, 8]"
     },
     "execution_count": 11,
     "metadata": {},
     "output_type": "execute_result"
    }
   ],
   "source": [
    "array = [3,2,9,6,5,8]\n",
    "rotation_array_without_space(array,6)"
   ],
   "metadata": {
    "collapsed": false,
    "pycharm": {
     "name": "#%%\n"
    }
   }
  },
  {
   "cell_type": "code",
   "execution_count": 12,
   "outputs": [
    {
     "data": {
      "text/plain": "array([[ 1,  2,  3,  4],\n       [ 5,  6,  7,  8],\n       [ 9, 10, 11, 12],\n       [13, 14, 15, 16]])"
     },
     "execution_count": 12,
     "metadata": {},
     "output_type": "execute_result"
    }
   ],
   "source": [
    "import numpy as np\n",
    "\n",
    "array = np.array(range(1,17)).reshape(4,4)\n",
    "array"
   ],
   "metadata": {
    "collapsed": false,
    "pycharm": {
     "name": "#%%\n"
    }
   }
  },
  {
   "cell_type": "code",
   "execution_count": 13,
   "outputs": [],
   "source": [
    "def spiral_printing(array):\n",
    "    top,left = 0,0\n",
    "    bottom,right = array.shape[0]-1,array.shape[1]-1\n",
    "    while (top<=bottom)&(left<=right) :\n",
    "        # left to right\n",
    "        #print(top,left,bottom,right)\n",
    "        #print(\"Left to Right\",end=\" \")\n",
    "        for i in range(left,right+1):\n",
    "\n",
    "            print(array[top][i],end=\" \")\n",
    "        top+=1\n",
    "        # top to bottom\n",
    "        #print(\"Top to Bottom\",end=\" \")\n",
    "        for i in range(top,bottom+1):\n",
    "\n",
    "            print(array[i][right],end=\" \")\n",
    "        right-=1\n",
    "        # right to left\n",
    "        #print(\"Right to Left\",end=\" \")\n",
    "        for i in range(right,left-1,-1):\n",
    "\n",
    "            print(array[bottom][i],end=\" \")\n",
    "        bottom-=1\n",
    "        # bottom to up\n",
    "        #print(\"Bottom to up\",end=\" \")\n",
    "        for i in range(bottom,top-1,-1):\n",
    "\n",
    "            print(array[i][left],end=\" \")\n",
    "        left+=1\n",
    "\n"
   ],
   "metadata": {
    "collapsed": false,
    "pycharm": {
     "name": "#%%\n"
    }
   }
  },
  {
   "cell_type": "code",
   "execution_count": 14,
   "outputs": [
    {
     "name": "stdout",
     "output_type": "stream",
     "text": [
      "1 2 3 4 8 12 16 15 14 13 9 5 6 7 11 10 "
     ]
    }
   ],
   "source": [
    "spiral_printing(array)"
   ],
   "metadata": {
    "collapsed": false,
    "pycharm": {
     "name": "#%%\n"
    }
   }
  },
  {
   "cell_type": "code",
   "execution_count": 15,
   "outputs": [
    {
     "data": {
      "text/plain": "array([[1, 2, 3],\n       [4, 5, 6],\n       [7, 8, 9]])"
     },
     "execution_count": 15,
     "metadata": {},
     "output_type": "execute_result"
    }
   ],
   "source": [
    "array = np.arange(1,10).reshape(3,3)\n",
    "array"
   ],
   "metadata": {
    "collapsed": false,
    "pycharm": {
     "name": "#%%\n"
    }
   }
  },
  {
   "cell_type": "code",
   "execution_count": 16,
   "outputs": [],
   "source": [
    "def transpose(array):\n",
    "    m= array.shape[0]\n",
    "    for i in range(m):\n",
    "        for j in range(i):\n",
    "            array[i,j],array[j,i] = array[j,i],array[i,j]\n"
   ],
   "metadata": {
    "collapsed": false,
    "pycharm": {
     "name": "#%%\n"
    }
   }
  },
  {
   "cell_type": "code",
   "execution_count": 17,
   "outputs": [],
   "source": [
    "def reverse(array):\n",
    "    start = 0\n",
    "    end = len(array)-1\n",
    "    while start<end:\n",
    "        array[start],array[end] = array[end],array[start]\n",
    "        start+=1\n",
    "        end-=1\n"
   ],
   "metadata": {
    "collapsed": false,
    "pycharm": {
     "name": "#%%\n"
    }
   }
  },
  {
   "cell_type": "code",
   "execution_count": 18,
   "outputs": [],
   "source": [
    "def rotate(array):\n",
    "    m = array.shape[0]-1\n",
    "    transpose(array)\n",
    "    for i in range(m):\n",
    "        reverse(array[i,:])"
   ],
   "metadata": {
    "collapsed": false,
    "pycharm": {
     "name": "#%%\n"
    }
   }
  },
  {
   "cell_type": "code",
   "execution_count": 19,
   "outputs": [
    {
     "data": {
      "text/plain": "array([[1, 2, 3],\n       [4, 5, 6],\n       [7, 8, 9]])"
     },
     "execution_count": 19,
     "metadata": {},
     "output_type": "execute_result"
    }
   ],
   "source": [
    "array"
   ],
   "metadata": {
    "collapsed": false,
    "pycharm": {
     "name": "#%%\n"
    }
   }
  },
  {
   "cell_type": "markdown",
   "source": [
    "# Given a String you need to find the subsequence of \"ag\" exist in the string"
   ],
   "metadata": {
    "collapsed": false,
    "pycharm": {
     "name": "#%% md\n"
    }
   }
  },
  {
   "cell_type": "code",
   "execution_count": 20,
   "outputs": [
    {
     "name": "stdout",
     "output_type": "stream",
     "text": [
      "3\n"
     ]
    }
   ],
   "source": [
    "string = \"abcgag\"\n",
    "ans = 0\n",
    "a = 0\n",
    "for c in string:\n",
    "    if c == \"a\":\n",
    "        a+=1\n",
    "    if c ==\"g\":\n",
    "        ans+=a\n",
    "print(ans)\n"
   ],
   "metadata": {
    "collapsed": false,
    "pycharm": {
     "name": "#%%\n"
    }
   }
  },
  {
   "cell_type": "code",
   "execution_count": 21,
   "outputs": [],
   "source": [
    "import numpy as np"
   ],
   "metadata": {
    "collapsed": false,
    "pycharm": {
     "name": "#%%\n"
    }
   }
  },
  {
   "cell_type": "code",
   "execution_count": 22,
   "outputs": [
    {
     "data": {
      "text/plain": "array([[0, 0, 0, 0, 0],\n       [0, 0, 0, 0, 0],\n       [0, 0, 0, 0, 0],\n       [0, 0, 0, 0, 0],\n       [0, 0, 0, 0, 0]])"
     },
     "execution_count": 22,
     "metadata": {},
     "output_type": "execute_result"
    }
   ],
   "source": [
    "listofzeros = np.zeros((5,5),dtype=int)\n",
    "listofzeros"
   ],
   "metadata": {
    "collapsed": false,
    "pycharm": {
     "name": "#%%\n"
    }
   }
  },
  {
   "cell_type": "code",
   "execution_count": 23,
   "outputs": [],
   "source": [
    "for row in range(len(listofzeros)):\n",
    "    inc = 1\n",
    "    for col in range(len(listofzeros)-1,len(listofzeros)-row-2,-1):\n",
    "        listofzeros[row][col]  = inc\n",
    "        inc+=1"
   ],
   "metadata": {
    "collapsed": false,
    "pycharm": {
     "name": "#%%\n"
    }
   }
  },
  {
   "cell_type": "code",
   "execution_count": 24,
   "outputs": [
    {
     "data": {
      "text/plain": "array([[0, 0, 0, 0, 1],\n       [0, 0, 0, 2, 1],\n       [0, 0, 3, 2, 1],\n       [0, 4, 3, 2, 1],\n       [5, 4, 3, 2, 1]])"
     },
     "execution_count": 24,
     "metadata": {},
     "output_type": "execute_result"
    }
   ],
   "source": [
    "listofzeros"
   ],
   "metadata": {
    "collapsed": false,
    "pycharm": {
     "name": "#%%\n"
    }
   }
  },
  {
   "cell_type": "markdown",
   "source": [
    "# Given an integer array, find the size of the smallest subarray contain the minimum and  maximum"
   ],
   "metadata": {
    "collapsed": false,
    "pycharm": {
     "name": "#%% md\n"
    }
   }
  },
  {
   "cell_type": "code",
   "execution_count": 25,
   "outputs": [],
   "source": [
    "import sys"
   ],
   "metadata": {
    "collapsed": false,
    "pycharm": {
     "name": "#%%\n"
    }
   }
  },
  {
   "cell_type": "code",
   "execution_count": 26,
   "outputs": [
    {
     "data": {
      "text/plain": "-9223372036854775808"
     },
     "execution_count": 26,
     "metadata": {},
     "output_type": "execute_result"
    }
   ],
   "source": [
    "~sys.maxsize"
   ],
   "metadata": {
    "collapsed": false,
    "pycharm": {
     "name": "#%%\n"
    }
   }
  },
  {
   "cell_type": "code",
   "execution_count": 91,
   "outputs": [],
   "source": [
    "array = [1,2,6,4,5,1,2,1,3,6,3,3,2,1]"
   ],
   "metadata": {
    "collapsed": false,
    "pycharm": {
     "name": "#%%\n"
    }
   }
  },
  {
   "cell_type": "code",
   "execution_count": 92,
   "outputs": [],
   "source": [
    "maxi = ~sys.maxsize\n",
    "mini = sys.maxsize\n",
    "for i in range(len(array)):\n",
    "    if array[i] > maxi:\n",
    "        maxi = array[i]\n",
    "    if array[i] < mini:\n",
    "        mini = array[i]"
   ],
   "metadata": {
    "collapsed": false,
    "pycharm": {
     "name": "#%%\n"
    }
   }
  },
  {
   "cell_type": "code",
   "execution_count": 93,
   "outputs": [
    {
     "name": "stdout",
     "output_type": "stream",
     "text": [
      "1 6\n"
     ]
    }
   ],
   "source": [
    "print(mini, maxi)"
   ],
   "metadata": {
    "collapsed": false,
    "pycharm": {
     "name": "#%%\n"
    }
   }
  },
  {
   "cell_type": "code",
   "execution_count": 94,
   "outputs": [],
   "source": [
    "ans = sys.maxsize\n",
    "for i in range(len(array)):\n",
    "    # find the minimum\n",
    "    if array[i] == mini:\n",
    "        # if we found the min then find the nearest maximum\n",
    "        for j in range(i+1,len(array)):\n",
    "            if array[j] == maxi:\n",
    "                ans = min(ans, j - i + 1)\n",
    "                break\n",
    "    if array[i] == maxi:\n",
    "        for j in range(i+1,len(array)):\n",
    "            if array[j] == mini:\n",
    "                ans = min(ans,j-i+1)\n",
    "                break"
   ],
   "metadata": {
    "collapsed": false,
    "pycharm": {
     "name": "#%%\n"
    }
   }
  },
  {
   "cell_type": "code",
   "execution_count": 95,
   "outputs": [
    {
     "data": {
      "text/plain": "3"
     },
     "execution_count": 95,
     "metadata": {},
     "output_type": "execute_result"
    }
   ],
   "source": [
    "ans"
   ],
   "metadata": {
    "collapsed": false,
    "pycharm": {
     "name": "#%%\n"
    }
   }
  },
  {
   "cell_type": "code",
   "execution_count": 96,
   "outputs": [],
   "source": [
    "max_index = sys.maxsize\n",
    "min_index = sys.maxsize\n",
    "ans = sys.maxsize\n",
    "for i in range(len(array)-1,-1,-1):\n",
    "    if array[i] == maxi:\n",
    "        max_index = i\n",
    "        ans = min(ans, min_index - max_index + 1)\n",
    "\n",
    "    if array[i] == mini:\n",
    "        min_index = i\n",
    "        ans = min(ans,max_index-min_index+1)"
   ],
   "metadata": {
    "collapsed": false,
    "pycharm": {
     "name": "#%%\n"
    }
   }
  },
  {
   "cell_type": "code",
   "execution_count": 97,
   "outputs": [
    {
     "data": {
      "text/plain": "3"
     },
     "execution_count": 97,
     "metadata": {},
     "output_type": "execute_result"
    }
   ],
   "source": [
    "ans"
   ],
   "metadata": {
    "collapsed": false,
    "pycharm": {
     "name": "#%%\n"
    }
   }
  },
  {
   "cell_type": "code",
   "execution_count": 100,
   "outputs": [],
   "source": [
    "max_index = -1\n",
    "min_index = -1\n",
    "ans = len(array)\n",
    "for i in range(len(array)):\n",
    "    if array[i] == maxi:\n",
    "        max_index = i\n",
    "        if min_index != -1:\n",
    "            ans = min(ans,max_index-min_index+1)\n",
    "\n",
    "\n",
    "    if array[i] == mini:\n",
    "        min_index = i\n",
    "        if max_index != -1:\n",
    "            ans = min(ans,min_index-max_index+1)"
   ],
   "metadata": {
    "collapsed": false,
    "pycharm": {
     "name": "#%%\n"
    }
   }
  },
  {
   "cell_type": "code",
   "execution_count": 101,
   "outputs": [
    {
     "data": {
      "text/plain": "3"
     },
     "execution_count": 101,
     "metadata": {},
     "output_type": "execute_result"
    }
   ],
   "source": [
    "ans"
   ],
   "metadata": {
    "collapsed": false,
    "pycharm": {
     "name": "#%%\n"
    }
   }
  },
  {
   "cell_type": "code",
   "execution_count": null,
   "outputs": [],
   "source": [],
   "metadata": {
    "collapsed": false,
    "pycharm": {
     "name": "#%%\n"
    }
   }
  }
 ],
 "metadata": {
  "kernelspec": {
   "display_name": "Python 3",
   "language": "python",
   "name": "python3"
  },
  "language_info": {
   "codemirror_mode": {
    "name": "ipython",
    "version": 2
   },
   "file_extension": ".py",
   "mimetype": "text/x-python",
   "name": "python",
   "nbconvert_exporter": "python",
   "pygments_lexer": "ipython2",
   "version": "2.7.6"
  }
 },
 "nbformat": 4,
 "nbformat_minor": 0
}