{
 "cells": [
  {
   "cell_type": "markdown",
   "source": [
    "Given some information, construct the array, of size k\n",
    "\n",
    "\t\t\t→array should be sorted\n",
    "\n",
    "\t\t\t→all element are distinct and positive >=1\n",
    "\n",
    "\t\t\t→diffoence between the two consiutive element  should be same\n",
    "\n",
    "\t\t\t→x.y should be in a array. x<y\n",
    "\n",
    "objective: The last element of away as minimum as possible."
   ],
   "metadata": {
    "collapsed": false,
    "pycharm": {
     "name": "#%% md\n"
    }
   }
  },
  {
   "cell_type": "code",
   "execution_count": 14,
   "outputs": [],
   "source": [
    "def solution(k,x,y):\n",
    "    diff = y - x\n",
    "    factor_diff = []\n",
    "    for i in range(1,diff):\n",
    "        if i * i > diff:\n",
    "            break\n",
    "        if diff % i == 0:\n",
    "            factor_diff.append(i)\n",
    "            factor_diff.append(int(diff/i))\n",
    "\n",
    "    factor_diff.sort()\n",
    "\n",
    "    for d in factor_diff:\n",
    "        ele_btw = (diff/d)+1\n",
    "        if ele_btw > k:\n",
    "            continue\n",
    "\n",
    "        needed_element = k - ele_btw\n",
    "\n",
    "        # find the a\n",
    "        initial = x\n",
    "        while (initial >1)  & (needed_element >0):\n",
    "            initial = x - d\n",
    "            needed_element -= 1\n",
    "\n",
    "        return [initial + (i -1 ) *d for i in range(1,k+1)]\n",
    "\n",
    "\n",
    "\n"
   ],
   "metadata": {
    "collapsed": false,
    "pycharm": {
     "name": "#%%\n"
    }
   }
  },
  {
   "cell_type": "code",
   "execution_count": 15,
   "outputs": [
    {
     "data": {
      "text/plain": "[10, 20, 30, 40, 50]"
     },
     "execution_count": 15,
     "metadata": {},
     "output_type": "execute_result"
    }
   ],
   "source": [
    "solution(5,20,50)"
   ],
   "metadata": {
    "collapsed": false,
    "pycharm": {
     "name": "#%%\n"
    }
   }
  },
  {
   "cell_type": "code",
   "execution_count": 16,
   "outputs": [
    {
     "data": {
      "text/plain": "[1, 2, 3, 4, 5, 6, 7, 8, 9, 10]"
     },
     "execution_count": 16,
     "metadata": {},
     "output_type": "execute_result"
    }
   ],
   "source": [
    "solution(10,1,5)"
   ],
   "metadata": {
    "collapsed": false,
    "pycharm": {
     "name": "#%%\n"
    }
   }
  },
  {
   "cell_type": "code",
   "execution_count": null,
   "outputs": [],
   "source": [],
   "metadata": {
    "collapsed": false,
    "pycharm": {
     "name": "#%%\n"
    }
   }
  }
 ],
 "metadata": {
  "kernelspec": {
   "display_name": "Python 3",
   "language": "python",
   "name": "python3"
  },
  "language_info": {
   "codemirror_mode": {
    "name": "ipython",
    "version": 2
   },
   "file_extension": ".py",
   "mimetype": "text/x-python",
   "name": "python",
   "nbconvert_exporter": "python",
   "pygments_lexer": "ipython2",
   "version": "2.7.6"
  }
 },
 "nbformat": 4,
 "nbformat_minor": 0
}