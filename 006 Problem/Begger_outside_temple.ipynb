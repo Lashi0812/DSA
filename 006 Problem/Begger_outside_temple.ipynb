{
 "cells": [
  {
   "cell_type": "markdown",
   "source": [
    "Problem\n",
    "\n",
    "There are N (N > 0) beggars sitting in a row outside a temple. Each beggar initially has an empty pot. When the devotees come to the temple, they donate some amount of coins to these beggars. Each devotee gives a fixed amount of coin(according to his faith and ability) to some K beggars sitting next to each other.\n",
    "\n",
    "Given the amount donated by each devotee to the beggars ranging from i to j index, where 1 <= i <= j <= N, find out the final amount of money in each beggar's pot at the end of the day, provided they don't fill their pots by any other means.\n",
    "\n",
    "Input:\n",
    "N = 5, D = [[1, 2, 10], [2, 3, 20], [2, 5, 25]]\n",
    "\n",
    "Return: [10, 55, 45, 25, 25]\n",
    "\n",
    "Explanation:\n",
    "=> First devotee donated 10 coins to beggars ranging from 1 to 2. Final amount in each beggars pot after first devotee: [10, 10, 0, 0, 0]\n",
    "\n",
    "=> Second devotee donated 20 coins to beggars ranging from 2 to 3. Final amount in each beggars pot after second devotee: [10, 30, 20, 0, 0]\n",
    "\n",
    "=> Third devotee donated 25 coins to beggars ranging from 2 to 5. Final amount in each beggars pot after third devotee: [10, 55, 45, 25, 25]"
   ],
   "metadata": {
    "collapsed": false,
    "pycharm": {
     "name": "#%% md\n"
    }
   }
  },
  {
   "cell_type": "code",
   "execution_count": 1,
   "outputs": [],
   "source": [
    "def solution(N,D):\n",
    "    amount = [0] * N\n",
    "    # mark the position\n",
    "    for devotee in D:\n",
    "        amount[devotee[0]-1] +=  devotee[2]\n",
    "        if devotee[1] < N:\n",
    "            amount[devotee[1]] -= devotee[2]\n",
    "        print(amount)\n",
    "\n",
    "\n",
    "    final = [0]\n",
    "    for i,ele in enumerate(amount):\n",
    "        final.append(final[i]+ele)\n",
    "    return final[1:]\n"
   ],
   "metadata": {
    "collapsed": false,
    "pycharm": {
     "name": "#%%\n"
    }
   }
  },
  {
   "cell_type": "code",
   "execution_count": 2,
   "outputs": [
    {
     "name": "stdout",
     "output_type": "stream",
     "text": [
      "[10, 0, -10, 0, 0]\n",
      "[10, 20, -10, -20, 0]\n",
      "[10, 45, -10, -20, 0]\n"
     ]
    },
    {
     "data": {
      "text/plain": "[10, 55, 45, 25, 25]"
     },
     "execution_count": 2,
     "metadata": {},
     "output_type": "execute_result"
    }
   ],
   "source": [
    "solution(5,[[1, 2, 10], [2, 3, 20], [2, 5, 25]])"
   ],
   "metadata": {
    "collapsed": false,
    "pycharm": {
     "name": "#%%\n"
    }
   }
  },
  {
   "cell_type": "code",
   "execution_count": 2,
   "outputs": [],
   "source": [],
   "metadata": {
    "collapsed": false,
    "pycharm": {
     "name": "#%%\n"
    }
   }
  }
 ],
 "metadata": {
  "kernelspec": {
   "display_name": "Python 3",
   "language": "python",
   "name": "python3"
  },
  "language_info": {
   "codemirror_mode": {
    "name": "ipython",
    "version": 2
   },
   "file_extension": ".py",
   "mimetype": "text/x-python",
   "name": "python",
   "nbconvert_exporter": "python",
   "pygments_lexer": "ipython2",
   "version": "2.7.6"
  }
 },
 "nbformat": 4,
 "nbformat_minor": 0
}