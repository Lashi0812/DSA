{
 "cells": [
  {
   "cell_type": "markdown",
   "source": [
    "Given an array, arr[] of size N, the task is to find the count of array indices such that removing an element from these indices makes the sum of even-indexed and odd-indexed array elements equal.\n",
    "\n",
    "Examples:\n",
    "\n",
    "Input: arr[] = { 2, 1, 6, 4 }\n",
    "Output: 1\n",
    "Explanation:\n",
    "Removing arr[1] from the array modifies arr[] to { 2, 6, 4 } such that, arr[0] + arr[2] = arr[1].\n",
    "Therefore, the required output is 1.\n",
    "\n",
    "Input: arr[] = { 1, 1, 1 }\n",
    "Output: 3\n",
    "Explanation:\n",
    "Removing arr[0] from the given array modifies arr[] to { 1, 1 } such that arr[0] = arr[1]\n",
    "Removing arr[1] from the given array modifies arr[] to { 1, 1 } such that arr[0] = arr[1]\n",
    "Removing arr[2] from the given array modifies arr[] to { 1, 1 } such that arr[0] = arr[1]\n",
    "Therefore, the required output is 3."
   ],
   "metadata": {
    "collapsed": false,
    "pycharm": {
     "name": "#%% md\n"
    }
   }
  },
  {
   "cell_type": "code",
   "execution_count": 24,
   "outputs": [],
   "source": [
    "def solution(array):\n",
    "    odd_sums  = 0\n",
    "    even_sums = 0\n",
    "    for i,ele in enumerate(array):\n",
    "        if i %2 ==0:\n",
    "            even_sums += ele\n",
    "        else:\n",
    "            odd_sums += ele\n",
    "\n",
    "    print(odd_sums,even_sums)\n",
    "\n",
    "    curr_even = 0\n",
    "    curr_odd = 0\n",
    "    count = 0\n",
    "    for i in range(len(array)):\n",
    "        after_removing_x = odd_sums + even_sums - array[i]\n",
    "\n",
    "        if i %2 != 0:\n",
    "            curr_odd += array[i]\n",
    "            new_even = curr_even + odd_sums - curr_odd\n",
    "        else:\n",
    "            curr_even += array[i]\n",
    "            new_even = curr_even + odd_sums - curr_odd - array[i]\n",
    "\n",
    "        if 2 * new_even == after_removing_x:\n",
    "            count+=1\n",
    "\n",
    "    # # corner case\n",
    "    #\n",
    "    # # left end\n",
    "    # if odd_sums == even_sums -array[0]:\n",
    "    #     count+=1\n",
    "    #\n",
    "    # # right end\n",
    "    # n = len(array)\n",
    "    # if n%2 ==1:\n",
    "    #     if odd_sums == even_sums - array[n-1]:\n",
    "    #         count+=1\n",
    "    # else:\n",
    "    #     if even_sums == odd_sums -array[n-1]:\n",
    "    #         count+=1\n",
    "\n",
    "\n",
    "\n",
    "\n",
    "\n",
    "\n",
    "    return count\n",
    "\n",
    "\n",
    "\n",
    "\n",
    "\n",
    "\n",
    "\n"
   ],
   "metadata": {
    "collapsed": false,
    "pycharm": {
     "name": "#%%\n"
    }
   }
  },
  {
   "cell_type": "code",
   "execution_count": 25,
   "outputs": [
    {
     "name": "stdout",
     "output_type": "stream",
     "text": [
      "5 8\n"
     ]
    },
    {
     "data": {
      "text/plain": "1"
     },
     "execution_count": 25,
     "metadata": {},
     "output_type": "execute_result"
    }
   ],
   "source": [
    "array = [2,1,6,4]\n",
    "solution(array)"
   ],
   "metadata": {
    "collapsed": false,
    "pycharm": {
     "name": "#%%\n"
    }
   }
  },
  {
   "cell_type": "code",
   "execution_count": 26,
   "outputs": [
    {
     "name": "stdout",
     "output_type": "stream",
     "text": [
      "1 2\n"
     ]
    },
    {
     "data": {
      "text/plain": "3"
     },
     "execution_count": 26,
     "metadata": {},
     "output_type": "execute_result"
    }
   ],
   "source": [
    "array = [1,1,1]\n",
    "solution(array)"
   ],
   "metadata": {
    "collapsed": false,
    "pycharm": {
     "name": "#%%\n"
    }
   }
  },
  {
   "cell_type": "code",
   "execution_count": null,
   "outputs": [],
   "source": [],
   "metadata": {
    "collapsed": false,
    "pycharm": {
     "name": "#%%\n"
    }
   }
  }
 ],
 "metadata": {
  "kernelspec": {
   "display_name": "Python 3",
   "language": "python",
   "name": "python3"
  },
  "language_info": {
   "codemirror_mode": {
    "name": "ipython",
    "version": 2
   },
   "file_extension": ".py",
   "mimetype": "text/x-python",
   "name": "python",
   "nbconvert_exporter": "python",
   "pygments_lexer": "ipython2",
   "version": "2.7.6"
  }
 },
 "nbformat": 4,
 "nbformat_minor": 0
}