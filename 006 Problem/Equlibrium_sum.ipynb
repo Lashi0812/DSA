{
 "cells": [
  {
   "cell_type": "markdown",
   "source": [
    "Given a sequence arr[] of size n, Write a function int equilibrium(int[] arr, int n) that returns an equilibrium index (if any) or -1 if no equilibrium index exists.\n",
    "\n",
    "\n",
    "The equilibrium index of an array is an index such that the sum of elements at lower indexes is equal to the sum of elements at higher indexes.\n",
    "\n",
    "Examples:\n",
    "\n",
    "Input: A[] = {-7, 1, 5, 2, -4, 3, 0}\n",
    "Output: 3\n",
    "3 is an equilibrium index, because:\n",
    "A[0] + A[1] + A[2] = A[4] + A[5] + A[6]\n",
    "\n",
    "Input: A[] = {1, 2, 3}\n",
    "Output: -1"
   ],
   "metadata": {
    "collapsed": false,
    "pycharm": {
     "name": "#%% md\n"
    }
   }
  },
  {
   "cell_type": "code",
   "execution_count": 1,
   "outputs": [],
   "source": [
    "def solution(array):\n",
    "    # compute total sum\n",
    "    total_sums = 0\n",
    "    for ele in array:\n",
    "        total_sums += ele\n",
    "\n",
    "    # y-x = 2a\n",
    "    left_sum = array[0]\n",
    "    for i in range(1,len(array)-2):\n",
    "        if total_sums - array[i] == 2 * left_sum:\n",
    "            return i\n",
    "        else:\n",
    "            left_sum += array[i]\n",
    "    return -1"
   ],
   "metadata": {
    "collapsed": false,
    "pycharm": {
     "name": "#%%\n"
    }
   }
  },
  {
   "cell_type": "code",
   "execution_count": 2,
   "outputs": [
    {
     "data": {
      "text/plain": "3"
     },
     "execution_count": 2,
     "metadata": {},
     "output_type": "execute_result"
    }
   ],
   "source": [
    "array = [-7,1,5,2,-4,3,0]\n",
    "solution(array)"
   ],
   "metadata": {
    "collapsed": false,
    "pycharm": {
     "name": "#%%\n"
    }
   }
  },
  {
   "cell_type": "code",
   "execution_count": 3,
   "outputs": [
    {
     "data": {
      "text/plain": "-1"
     },
     "execution_count": 3,
     "metadata": {},
     "output_type": "execute_result"
    }
   ],
   "source": [
    "array = [1,2,3]\n",
    "solution(array)"
   ],
   "metadata": {
    "collapsed": false,
    "pycharm": {
     "name": "#%%\n"
    }
   }
  },
  {
   "cell_type": "markdown",
   "source": [
    "# Using the Prefix and Suffix"
   ],
   "metadata": {
    "collapsed": false,
    "pycharm": {
     "name": "#%% md\n"
    }
   }
  },
  {
   "cell_type": "code",
   "execution_count": 32,
   "outputs": [],
   "source": [
    "def solution1(array):\n",
    "    prefix_sum = [0]\n",
    "    suffix_sum = [0]\n",
    "    for i,ele in enumerate(array):\n",
    "        prefix_sum.append(prefix_sum[i]+ele)\n",
    "\n",
    "    for i,ele in enumerate(array[::-1]):\n",
    "        suffix_sum.append(suffix_sum[i]+ele)\n",
    "\n",
    "\n",
    "\n",
    "    for i,ele in enumerate(zip(prefix_sum[1:],suffix_sum[1:][::-1])):\n",
    "\n",
    "        if ele[0] == ele[1]:\n",
    "            return i\n",
    "\n",
    "    return -1\n",
    "\n"
   ],
   "metadata": {
    "collapsed": false,
    "pycharm": {
     "name": "#%%\n"
    }
   }
  },
  {
   "cell_type": "code",
   "execution_count": 33,
   "outputs": [
    {
     "data": {
      "text/plain": "3"
     },
     "execution_count": 33,
     "metadata": {},
     "output_type": "execute_result"
    }
   ],
   "source": [
    "array = [-7,1,5,2,-4,3]\n",
    "solution1(array)"
   ],
   "metadata": {
    "collapsed": false,
    "pycharm": {
     "name": "#%%\n"
    }
   }
  },
  {
   "cell_type": "code",
   "execution_count": 9,
   "outputs": [],
   "source": [],
   "metadata": {
    "collapsed": false,
    "pycharm": {
     "name": "#%%\n"
    }
   }
  },
  {
   "cell_type": "code",
   "execution_count": null,
   "outputs": [],
   "source": [],
   "metadata": {
    "collapsed": false,
    "pycharm": {
     "name": "#%%\n"
    }
   }
  }
 ],
 "metadata": {
  "kernelspec": {
   "display_name": "Python 3",
   "language": "python",
   "name": "python3"
  },
  "language_info": {
   "codemirror_mode": {
    "name": "ipython",
    "version": 2
   },
   "file_extension": ".py",
   "mimetype": "text/x-python",
   "name": "python",
   "nbconvert_exporter": "python",
   "pygments_lexer": "ipython2",
   "version": "2.7.6"
  }
 },
 "nbformat": 4,
 "nbformat_minor": 0
}