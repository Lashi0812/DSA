{
 "cells": [
  {
   "cell_type": "markdown",
   "source": [
    "# Given the array of peak og mountain  ,for every peak find the highest peak on the both side"
   ],
   "metadata": {
    "collapsed": false,
    "pycharm": {
     "name": "#%% md\n"
    }
   }
  },
  {
   "cell_type": "code",
   "execution_count": 11,
   "outputs": [],
   "source": [
    "def solution(array):\n",
    "    prefix_max = [0]\n",
    "    suffix_max = [0]*len(array)\n",
    "\n",
    "    for i in range(len(array)-1):\n",
    "        prefix_max.append(max(prefix_max[i],array[i]))\n",
    "\n",
    "\n",
    "    for i in range(len(array)-1,0,-1):\n",
    "        suffix_max[i-1] = max(suffix_max[i],array[i])\n",
    "    return prefix_max,suffix_max\n",
    "\n",
    "\n",
    "\n"
   ],
   "metadata": {
    "collapsed": false,
    "pycharm": {
     "name": "#%%\n"
    }
   }
  },
  {
   "cell_type": "code",
   "execution_count": 12,
   "outputs": [
    {
     "data": {
      "text/plain": "([0, 4, 7, 7, 7, 9, 10, 10, 10, 10], [10, 10, 10, 10, 10, 7, 7, 7, 3, 0])"
     },
     "execution_count": 12,
     "metadata": {},
     "output_type": "execute_result"
    }
   ],
   "source": [
    "array = [4,7,2,4,9,10,1,4,7,3]\n",
    "solution(array)"
   ],
   "metadata": {
    "collapsed": false,
    "pycharm": {
     "name": "#%%\n"
    }
   }
  },
  {
   "cell_type": "code",
   "execution_count": null,
   "outputs": [],
   "source": [],
   "metadata": {
    "collapsed": false,
    "pycharm": {
     "name": "#%%\n"
    }
   }
  }
 ],
 "metadata": {
  "kernelspec": {
   "display_name": "Python 3",
   "language": "python",
   "name": "python3"
  },
  "language_info": {
   "codemirror_mode": {
    "name": "ipython",
    "version": 2
   },
   "file_extension": ".py",
   "mimetype": "text/x-python",
   "name": "python",
   "nbconvert_exporter": "python",
   "pygments_lexer": "ipython2",
   "version": "2.7.6"
  }
 },
 "nbformat": 4,
 "nbformat_minor": 0
}