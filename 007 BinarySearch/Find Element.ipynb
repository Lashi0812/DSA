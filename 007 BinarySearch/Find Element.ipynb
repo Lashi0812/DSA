{
 "cells": [
  {
   "cell_type": "markdown",
   "metadata": {
    "collapsed": false,
    "pycharm": {
     "name": "#%% md\n"
    }
   },
   "source": [
    "Given the rotated sorted away, with distinct element  search given element K.\n",
    "\t\t\t1 2 3  4 5 6 7\n",
    "\n",
    "\tif array rotated for 3 times\n",
    "\t\tthen\n",
    "\t\t\t[ 4 5 6 7 ] [ 1 2 3 ]\n"
   ]
  },
  {
   "cell_type": "code",
   "execution_count": 1,
   "metadata": {
    "collapsed": false,
    "pycharm": {
     "name": "#%%\n"
    }
   },
   "outputs": [],
   "source": [
    "def occurrence(array,target,l,r):\n",
    "    l = l\n",
    "    r = r\n",
    "    while l<=r:\n",
    "        mid = (l+r)//2\n",
    "        if array[mid]==target:\n",
    "            return mid\n",
    "        if array[mid]>target:\n",
    "            r = mid -1\n",
    "        else:\n",
    "            l = mid +1\n",
    "    return -1"
   ]
  },
  {
   "cell_type": "code",
   "execution_count": 2,
   "metadata": {
    "collapsed": false,
    "pycharm": {
     "name": "#%%\n"
    }
   },
   "outputs": [],
   "source": [
    "def solution(array,target):\n",
    "    # handle boundary case\n",
    "    if array[0]< array[-1]:\n",
    "        return occurrence(array,target,l=0,r=len(array)-1)\n",
    "\n",
    "    # find t => index of the right side sorted array\n",
    "    l = 0\n",
    "    r = len(array)-1\n",
    "    t = -1\n",
    "    while l<= r:\n",
    "        mid = (l+r)//2\n",
    "        if array[mid]>array[0]:\n",
    "            # im on the left side\n",
    "            l = mid + 1\n",
    "        else:\n",
    "            t = mid\n",
    "            r = mid - 1\n",
    "\n",
    "    # find the element\n",
    "\n",
    "    if array[0]<= target:\n",
    "        return occurrence(array,target,l=0,r=t-1)\n",
    "    else:\n",
    "        return occurrence(array,target,l=t,r=len(array)-1)\n"
   ]
  },
  {
   "cell_type": "code",
   "execution_count": 3,
   "metadata": {
    "collapsed": false,
    "pycharm": {
     "name": "#%%\n"
    }
   },
   "outputs": [
    {
     "data": {
      "text/plain": [
       "3"
      ]
     },
     "execution_count": 3,
     "metadata": {},
     "output_type": "execute_result"
    }
   ],
   "source": [
    "array1 = [4,5,6,7,1,2,3]\n",
    "solution(array1,7)"
   ]
  },
  {
   "cell_type": "code",
   "execution_count": 4,
   "metadata": {
    "collapsed": false,
    "pycharm": {
     "name": "#%%\n"
    }
   },
   "outputs": [
    {
     "data": {
      "text/plain": [
       "4"
      ]
     },
     "execution_count": 4,
     "metadata": {},
     "output_type": "execute_result"
    }
   ],
   "source": [
    "solution(array1,1)"
   ]
  },
  {
   "cell_type": "code",
   "execution_count": 5,
   "metadata": {
    "collapsed": false,
    "pycharm": {
     "name": "#%%\n"
    }
   },
   "outputs": [
    {
     "data": {
      "text/plain": [
       "0"
      ]
     },
     "execution_count": 5,
     "metadata": {},
     "output_type": "execute_result"
    }
   ],
   "source": [
    "solution(array1,4)"
   ]
  },
  {
   "cell_type": "code",
   "execution_count": 6,
   "metadata": {
    "collapsed": false,
    "pycharm": {
     "name": "#%%\n"
    }
   },
   "outputs": [
    {
     "data": {
      "text/plain": [
       "6"
      ]
     },
     "execution_count": 6,
     "metadata": {},
     "output_type": "execute_result"
    }
   ],
   "source": [
    "solution(array1,3)"
   ]
  },
  {
   "cell_type": "code",
   "execution_count": 7,
   "metadata": {
    "collapsed": false,
    "pycharm": {
     "name": "#%%\n"
    }
   },
   "outputs": [
    {
     "data": {
      "text/plain": [
       "4"
      ]
     },
     "execution_count": 7,
     "metadata": {},
     "output_type": "execute_result"
    }
   ],
   "source": [
    "array2 = [1,2,3,4,5,6,7,8]\n",
    "solution(array1,1)"
   ]
  },
  {
   "cell_type": "code",
   "execution_count": 8,
   "metadata": {
    "collapsed": false,
    "pycharm": {
     "name": "#%%\n"
    }
   },
   "outputs": [],
   "source": [
    "def solution2(array,target):\n",
    "    l = 0\n",
    "    r = len(array) -1\n",
    "    while l<=r:\n",
    "        mid = (l+r) //2\n",
    "        if array[mid] == target:\n",
    "            return mid\n",
    "        # if mid on the left part\n",
    "        if array[0] <= array[mid]:\n",
    "            # reduce the search space\n",
    "            if (target < array[mid]) & (target >= array[0]):\n",
    "                r = mid -1\n",
    "            else:\n",
    "                l = mid+1\n",
    "        else:\n",
    "            if (target > array[mid]) & (target <= array[-1]):\n",
    "                l = mid +1\n",
    "            else:\n",
    "                r = mid -1\n",
    "    return -1"
   ]
  },
  {
   "cell_type": "code",
   "execution_count": 9,
   "metadata": {
    "collapsed": false,
    "pycharm": {
     "name": "#%%\n"
    }
   },
   "outputs": [
    {
     "data": {
      "text/plain": [
       "6"
      ]
     },
     "execution_count": 9,
     "metadata": {},
     "output_type": "execute_result"
    }
   ],
   "source": [
    "solution2(array1,3)"
   ]
  },
  {
   "cell_type": "code",
   "execution_count": 10,
   "metadata": {
    "collapsed": false,
    "pycharm": {
     "name": "#%%\n"
    }
   },
   "outputs": [
    {
     "data": {
      "text/plain": [
       "0"
      ]
     },
     "execution_count": 10,
     "metadata": {},
     "output_type": "execute_result"
    }
   ],
   "source": [
    "solution2(array1,4)"
   ]
  },
  {
   "cell_type": "code",
   "execution_count": 10,
   "metadata": {
    "collapsed": false,
    "pycharm": {
     "name": "#%%\n"
    }
   },
   "outputs": [],
   "source": []
  }
 ],
 "metadata": {
  "kernelspec": {
   "display_name": "Python 3",
   "language": "python",
   "name": "python3"
  },
  "language_info": {
   "codemirror_mode": {
    "name": "ipython",
    "version": 2
   },
   "file_extension": ".py",
   "mimetype": "text/x-python",
   "name": "python",
   "nbconvert_exporter": "python",
   "pygments_lexer": "ipython2",
   "version": "3.10.5 (tags/v3.10.5:f377153, Jun  6 2022, 16:14:13) [MSC v.1929 64 bit (AMD64)]"
  },
  "vscode": {
   "interpreter": {
    "hash": "369f2c481f4da34e4445cda3fffd2e751bd1c4d706f27375911949ba6bb62e1c"
   }
  }
 },
 "nbformat": 4,
 "nbformat_minor": 0
}
