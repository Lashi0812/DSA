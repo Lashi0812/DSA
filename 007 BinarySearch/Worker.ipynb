{
 "cells": [
  {
   "cell_type": "markdown",
   "source": [
    "Given an array of jobs with different time requirements. There are K identical assignees available and we are also given how much time an assignee takes to do one unit of the job. Find the minimum time to finish all jobs with following constraints.\n",
    "\n",
    "\n",
    "An assignee can be assigned only contiguous jobs. For example, an assignee cannot be assigned jobs 1 and 3, but not 2.\n",
    "Two assignees cannot share (or co-assigned) a job, i.e., a job cannot be partially assigned to one assignee and partially to other"
   ],
   "metadata": {
    "collapsed": false,
    "pycharm": {
     "name": "#%% md\n"
    }
   }
  },
  {
   "cell_type": "markdown",
   "source": [
    "\n",
    "\n",
    "\n"
   ],
   "metadata": {
    "collapsed": false,
    "pycharm": {
     "name": "#%% md\n"
    }
   }
  },
  {
   "cell_type": "code",
   "execution_count": 1,
   "outputs": [],
   "source": [
    "def minimum_required_time(time,worker,mid):\n",
    "    cur_worker = 1\n",
    "    total_time = 0\n",
    "    for i in time:\n",
    "        if total_time+i > mid:\n",
    "            cur_worker += 1\n",
    "            total_time = i\n",
    "        else:\n",
    "            total_time += i\n",
    "\n",
    "    if cur_worker <= worker:\n",
    "        return True\n",
    "    else:\n",
    "        return False\n"
   ],
   "metadata": {
    "collapsed": false,
    "pycharm": {
     "name": "#%%\n"
    }
   }
  },
  {
   "cell_type": "code",
   "execution_count": 2,
   "outputs": [],
   "source": [
    "def solution(time,worker):\n",
    "    # define the search space\n",
    "    l = max(time)\n",
    "    r = sum(time)\n",
    "    ans = 0\n",
    "    while l<=r:\n",
    "        mid = (l+r)//2\n",
    "        if minimum_required_time(time,worker,mid):\n",
    "            ans = mid\n",
    "            r = mid -1\n",
    "        else:\n",
    "            l = mid +1\n",
    "    return ans"
   ],
   "metadata": {
    "collapsed": false,
    "pycharm": {
     "name": "#%%\n"
    }
   }
  },
  {
   "cell_type": "code",
   "execution_count": 3,
   "outputs": [
    {
     "data": {
      "text/plain": "25"
     },
     "execution_count": 3,
     "metadata": {},
     "output_type": "execute_result"
    }
   ],
   "source": [
    "array = [3,5,1,7,8,2,5,3,10,1,4,7,5,4,6]\n",
    "solution(array,3)"
   ],
   "metadata": {
    "collapsed": false,
    "pycharm": {
     "name": "#%%\n"
    }
   }
  },
  {
   "cell_type": "code",
   "execution_count": null,
   "outputs": [],
   "source": [],
   "metadata": {
    "collapsed": false,
    "pycharm": {
     "name": "#%%\n"
    }
   }
  }
 ],
 "metadata": {
  "kernelspec": {
   "display_name": "Python 3",
   "language": "python",
   "name": "python3"
  },
  "language_info": {
   "codemirror_mode": {
    "name": "ipython",
    "version": 2
   },
   "file_extension": ".py",
   "mimetype": "text/x-python",
   "name": "python",
   "nbconvert_exporter": "python",
   "pygments_lexer": "ipython2",
   "version": "2.7.6"
  }
 },
 "nbformat": 4,
 "nbformat_minor": 0
}