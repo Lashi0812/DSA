{
 "cells": [
  {
   "cell_type": "markdown",
   "source": [
    "\n",
    "Q.Given the away, where each element will repeat twice except the only one element\n",
    "\n",
    "Note : Duplicate will adjacent to each other\n",
    "\n",
    "\t\t\t\t2 2 3 3 1 1 5 5 6 10 10 4 4\n"
   ],
   "metadata": {
    "collapsed": false,
    "pycharm": {
     "name": "#%% md\n"
    }
   }
  },
  {
   "cell_type": "code",
   "execution_count": 5,
   "outputs": [],
   "source": [
    "def solution(array):\n",
    "\n",
    "    # handle the boundary case\n",
    "\n",
    "    if len(array) == 1 : return array[0]\n",
    "    if array[0] != array[1]   : return array[0]\n",
    "    if array[-1] != array[-2] : return array[-1]\n",
    "\n",
    "    l = 0\n",
    "    r = len(array)-1\n",
    "\n",
    "    while l<=r:\n",
    "        mid = (l+r)//2\n",
    "        # Land on the unique element\n",
    "        if (array[mid-1] != array[mid]) & (array[mid] != array[mid+1]):\n",
    "            return array[mid]\n",
    "\n",
    "        # making the mid as 1st occurrence\n",
    "        if array[mid-1] == array[mid]:\n",
    "            mid = mid - 1\n",
    "\n",
    "        if mid %2 == 0:\n",
    "            # ensuring the jumping two element\n",
    "            l = mid + 2\n",
    "        else:\n",
    "            r = mid - 1\n"
   ],
   "metadata": {
    "collapsed": false,
    "pycharm": {
     "name": "#%%\n"
    }
   }
  },
  {
   "cell_type": "code",
   "execution_count": 2,
   "outputs": [
    {
     "data": {
      "text/plain": "6"
     },
     "execution_count": 2,
     "metadata": {},
     "output_type": "execute_result"
    }
   ],
   "source": [
    "array1 = [2, 2, 3 ,3, 1 ,1 ,5, 5, 6 ,10, 10, 4, 4]\n",
    "solution(array1)"
   ],
   "metadata": {
    "collapsed": false,
    "pycharm": {
     "name": "#%%\n"
    }
   }
  },
  {
   "cell_type": "code",
   "execution_count": 3,
   "outputs": [
    {
     "data": {
      "text/plain": "50"
     },
     "execution_count": 3,
     "metadata": {},
     "output_type": "execute_result"
    }
   ],
   "source": [
    "array2 = [50, 2, 2, 3 ,3, 1 ,1 ,5, 5,10, 10, 4, 4]\n",
    "solution(array2)"
   ],
   "metadata": {
    "collapsed": false,
    "pycharm": {
     "name": "#%%\n"
    }
   }
  },
  {
   "cell_type": "code",
   "execution_count": 4,
   "outputs": [
    {
     "data": {
      "text/plain": "100"
     },
     "execution_count": 4,
     "metadata": {},
     "output_type": "execute_result"
    }
   ],
   "source": [
    "array3 = [ 2, 2, 3 ,3, 1 ,1 ,5, 5,10, 10, 4, 4,100]\n",
    "solution(array3)"
   ],
   "metadata": {
    "collapsed": false,
    "pycharm": {
     "name": "#%%\n"
    }
   }
  },
  {
   "cell_type": "code",
   "execution_count": 6,
   "outputs": [
    {
     "data": {
      "text/plain": "2"
     },
     "execution_count": 6,
     "metadata": {},
     "output_type": "execute_result"
    }
   ],
   "source": [
    "array4 = [2]\n",
    "solution(array4)"
   ],
   "metadata": {
    "collapsed": false,
    "pycharm": {
     "name": "#%%\n"
    }
   }
  },
  {
   "cell_type": "code",
   "execution_count": null,
   "outputs": [],
   "source": [],
   "metadata": {
    "collapsed": false,
    "pycharm": {
     "name": "#%%\n"
    }
   }
  }
 ],
 "metadata": {
  "kernelspec": {
   "display_name": "Python 3",
   "language": "python",
   "name": "python3"
  },
  "language_info": {
   "codemirror_mode": {
    "name": "ipython",
    "version": 2
   },
   "file_extension": ".py",
   "mimetype": "text/x-python",
   "name": "python",
   "nbconvert_exporter": "python",
   "pygments_lexer": "ipython2",
   "version": "2.7.6"
  }
 },
 "nbformat": 4,
 "nbformat_minor": 0
}