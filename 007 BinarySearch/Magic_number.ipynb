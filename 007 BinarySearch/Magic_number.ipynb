{
 "cells": [
  {
   "cell_type": "markdown",
   "source": [
    "Q.Find the Nth magical number, Given A and B.\n",
    "\tNth multiple of A (or) B.\n",
    "\n",
    "\t2,3,4,6,8,9,10,12 Magical Number.\n",
    "\n",
    "\t\tA=2 B = 3 N = 8\n",
    "\n",
    "Ans =12"
   ],
   "metadata": {
    "collapsed": false,
    "pycharm": {
     "name": "#%% md\n"
    }
   }
  },
  {
   "cell_type": "code",
   "execution_count": 1,
   "outputs": [],
   "source": [
    "def gcd(a,b):\n",
    "    while b:\n",
    "        a,b=b,a%b\n",
    "    return a"
   ],
   "metadata": {
    "collapsed": false,
    "pycharm": {
     "name": "#%%\n"
    }
   }
  },
  {
   "cell_type": "code",
   "execution_count": 2,
   "outputs": [],
   "source": [
    "def multiplier(a,b,mid):\n",
    "    lcm = (a*b)/gcd(a,b)\n",
    "    return (mid/a) + (mid/b) - (mid/lcm)\n"
   ],
   "metadata": {
    "collapsed": false,
    "pycharm": {
     "name": "#%%\n"
    }
   }
  },
  {
   "cell_type": "code",
   "execution_count": 3,
   "outputs": [],
   "source": [
    "def solution(a,b,n):\n",
    "    # define the search space\n",
    "    l = min(a,b)\n",
    "    r = min(a,b)*n\n",
    "\n",
    "\n",
    "    while l<=r:\n",
    "\n",
    "        mid = (l+r)//2\n",
    "        number = multiplier(a,b,mid)\n",
    "\n",
    "        if number == n:\n",
    "            return mid\n",
    "        if number < n:\n",
    "            l = mid +1\n",
    "        else:\n",
    "            r = mid -1"
   ],
   "metadata": {
    "collapsed": false,
    "pycharm": {
     "name": "#%%\n"
    }
   }
  },
  {
   "cell_type": "code",
   "execution_count": 4,
   "outputs": [
    {
     "data": {
      "text/plain": "21"
     },
     "execution_count": 4,
     "metadata": {},
     "output_type": "execute_result"
    }
   ],
   "source": [
    "solution(2,3,14)"
   ],
   "metadata": {
    "collapsed": false,
    "pycharm": {
     "name": "#%%\n"
    }
   }
  },
  {
   "cell_type": "code",
   "execution_count": 4,
   "outputs": [],
   "source": [],
   "metadata": {
    "collapsed": false,
    "pycharm": {
     "name": "#%%\n"
    }
   }
  }
 ],
 "metadata": {
  "kernelspec": {
   "display_name": "Python 3",
   "language": "python",
   "name": "python3"
  },
  "language_info": {
   "codemirror_mode": {
    "name": "ipython",
    "version": 2
   },
   "file_extension": ".py",
   "mimetype": "text/x-python",
   "name": "python",
   "nbconvert_exporter": "python",
   "pygments_lexer": "ipython2",
   "version": "2.7.6"
  }
 },
 "nbformat": 4,
 "nbformat_minor": 0
}