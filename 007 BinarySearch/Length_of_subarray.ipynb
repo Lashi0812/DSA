{
 "cells": [
  {
   "cell_type": "markdown",
   "metadata": {
    "collapsed": false,
    "pycharm": {
     "name": "#%% md\n"
    }
   },
   "source": [
    "Q.Given away of positive integer. Find maximum k such that this is no subarray of length k with sum > B\n",
    "\n",
    "\n",
    "\t\t\t\t[3 2 5 4  6 3 7 2] B=20\n",
    " k = 4"
   ]
  },
  {
   "cell_type": "code",
   "execution_count": 21,
   "metadata": {
    "collapsed": false,
    "pycharm": {
     "name": "#%%\n"
    }
   },
   "outputs": [],
   "source": [
    "def check(array,mid,sums):\n",
    "    temp = 0\n",
    "    # calculate the first window sum\n",
    "    for i in range(mid):\n",
    "        temp += array[i]\n",
    "\n",
    "    is_there = (False,True)[temp>sums]\n",
    "    for i in range(0,len(array)-mid):\n",
    "        temp = temp - array[i] +array[i+mid]\n",
    "        if temp >sums:\n",
    "            is_there =  True\n",
    "    return is_there\n"
   ]
  },
  {
   "cell_type": "code",
   "execution_count": 22,
   "metadata": {
    "collapsed": false,
    "pycharm": {
     "name": "#%%\n"
    }
   },
   "outputs": [],
   "source": [
    "def solution(array,sums):\n",
    "    l = 1\n",
    "    r = len(array)\n",
    "    ans = 0\n",
    "\n",
    "    while l<=r :\n",
    "        mid = (l+r)//2\n",
    "        if check(array,mid,sums):\n",
    "            r = mid -1\n",
    "        else:\n",
    "            ans = mid\n",
    "            l =mid+1\n",
    "\n",
    "    return ans"
   ]
  },
  {
   "cell_type": "code",
   "execution_count": 26,
   "metadata": {
    "collapsed": false,
    "pycharm": {
     "name": "#%%\n"
    }
   },
   "outputs": [
    {
     "data": {
      "text/plain": [
       "4"
      ]
     },
     "execution_count": 26,
     "metadata": {},
     "output_type": "execute_result"
    }
   ],
   "source": [
    "array1 = [3,2,5,4,6,3,7,2]\n",
    "solution(array1,20)"
   ]
  },
  {
   "cell_type": "code",
   "execution_count": 3,
   "metadata": {
    "collapsed": false,
    "pycharm": {
     "name": "#%%\n"
    }
   },
   "outputs": [],
   "source": [
    "def gcd(a,b):\n",
    "    while b:\n",
    "        a,b = b,a%b\n",
    "    return a\n"
   ]
  },
  {
   "cell_type": "code",
   "execution_count": null,
   "metadata": {
    "collapsed": false,
    "pycharm": {
     "name": "#%%\n"
    }
   },
   "outputs": [],
   "source": []
  }
 ],
 "metadata": {
  "kernelspec": {
   "display_name": "Python 3",
   "language": "python",
   "name": "python3"
  },
  "language_info": {
   "codemirror_mode": {
    "name": "ipython",
    "version": 2
   },
   "file_extension": ".py",
   "mimetype": "text/x-python",
   "name": "python",
   "nbconvert_exporter": "python",
   "pygments_lexer": "ipython2",
   "version": "3.10.5 (tags/v3.10.5:f377153, Jun  6 2022, 16:14:13) [MSC v.1929 64 bit (AMD64)]"
  },
  "vscode": {
   "interpreter": {
    "hash": "369f2c481f4da34e4445cda3fffd2e751bd1c4d706f27375911949ba6bb62e1c"
   }
  }
 },
 "nbformat": 4,
 "nbformat_minor": 0
}
