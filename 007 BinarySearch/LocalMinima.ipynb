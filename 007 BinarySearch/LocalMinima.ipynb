{
 "cells": [
  {
   "cell_type": "markdown",
   "source": [
    "Given the unsorted array find the local minima"
   ],
   "metadata": {
    "collapsed": false,
    "pycharm": {
     "name": "#%% md\n"
    }
   }
  },
  {
   "cell_type": "code",
   "execution_count": 1,
   "outputs": [],
   "source": [
    "def solution(array):\n",
    "    # handle the critical case\n",
    "    if array[0] < array[1]  : return array[0]\n",
    "    if array[-1] < array[-2]: return array[-1]\n",
    "\n",
    "\n",
    "    # define the search space\n",
    "\n",
    "\n",
    "    l = 1\n",
    "    r = len(array) -2\n",
    "    mid = -1\n",
    "    while l<=r:\n",
    "        mid = (l+r)//2\n",
    "        # case 1 - both side is peak\n",
    "        if (array[mid-1] > array[mid])  & (array[mid+1] > array[mid]) :\n",
    "            return array[mid]\n",
    "\n",
    "        if array[mid-1] > array[mid]:\n",
    "            l = mid +1\n",
    "        else:\n",
    "            r = mid -1\n",
    "\n",
    "\n",
    "\n",
    "    return array[mid]\n"
   ],
   "metadata": {
    "collapsed": false,
    "pycharm": {
     "name": "#%%\n"
    }
   }
  },
  {
   "cell_type": "code",
   "execution_count": 2,
   "outputs": [
    {
     "data": {
      "text/plain": "3"
     },
     "execution_count": 2,
     "metadata": {},
     "output_type": "execute_result"
    }
   ],
   "source": [
    "array1 = [9,8,3,7,6,4,1,5]\n",
    "solution(array1)"
   ],
   "metadata": {
    "collapsed": false,
    "pycharm": {
     "name": "#%%\n"
    }
   }
  },
  {
   "cell_type": "code",
   "execution_count": 3,
   "outputs": [
    {
     "data": {
      "text/plain": "1"
     },
     "execution_count": 3,
     "metadata": {},
     "output_type": "execute_result"
    }
   ],
   "source": [
    "array2 = [1,2,3,4,5,6,7,8]\n",
    "solution(array2)"
   ],
   "metadata": {
    "collapsed": false,
    "pycharm": {
     "name": "#%%\n"
    }
   }
  },
  {
   "cell_type": "code",
   "execution_count": 4,
   "outputs": [
    {
     "data": {
      "text/plain": "1"
     },
     "execution_count": 4,
     "metadata": {},
     "output_type": "execute_result"
    }
   ],
   "source": [
    "solution(array2[::-1])"
   ],
   "metadata": {
    "collapsed": false,
    "pycharm": {
     "name": "#%%\n"
    }
   }
  },
  {
   "cell_type": "code",
   "execution_count": null,
   "outputs": [],
   "source": [],
   "metadata": {
    "collapsed": false,
    "pycharm": {
     "name": "#%%\n"
    }
   }
  }
 ],
 "metadata": {
  "kernelspec": {
   "display_name": "Python 3",
   "language": "python",
   "name": "python3"
  },
  "language_info": {
   "codemirror_mode": {
    "name": "ipython",
    "version": 2
   },
   "file_extension": ".py",
   "mimetype": "text/x-python",
   "name": "python",
   "nbconvert_exporter": "python",
   "pygments_lexer": "ipython2",
   "version": "2.7.6"
  }
 },
 "nbformat": 4,
 "nbformat_minor": 0
}