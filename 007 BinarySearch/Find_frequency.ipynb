{
 "cells": [
  {
   "cell_type": "markdown",
   "source": [
    "# Given the sorted array find the frequency of the sorted array"
   ],
   "metadata": {
    "collapsed": false,
    "pycharm": {
     "name": "#%% md\n"
    }
   }
  },
  {
   "cell_type": "code",
   "execution_count": 29,
   "outputs": [],
   "source": [
    "def occurrence(what,array,target):\n",
    "    # define the search space\n",
    "    l = 0\n",
    "    r = len(array)-1\n",
    "    occ = -1\n",
    "    # find the first occurrence\n",
    "    while l<=r:\n",
    "        mid = (l+r)//2\n",
    "        # check for the middle\n",
    "        if array[mid] == target:\n",
    "            if what == \"first\":\n",
    "                occ = mid\n",
    "                r = mid - 1\n",
    "            if what ==\"last\":\n",
    "                occ = mid\n",
    "                l = mid + 1\n",
    "            continue\n",
    "        if array[mid] > target:\n",
    "            r = mid - 1\n",
    "        else:\n",
    "            l = mid + 1\n",
    "    return occ\n"
   ],
   "metadata": {
    "collapsed": false,
    "pycharm": {
     "name": "#%%\n"
    }
   }
  },
  {
   "cell_type": "code",
   "execution_count": 33,
   "outputs": [],
   "source": [
    "def solution(array,target):\n",
    "    first_occ = occurrence(\"first\",array,target)\n",
    "\n",
    "    if first_occ == -1:\n",
    "        return -1\n",
    "    else:\n",
    "\n",
    "        last_occ = occurrence(\"last\",array,target)\n",
    "        return  last_occ - first_occ +1\n",
    "\n",
    "\n"
   ],
   "metadata": {
    "collapsed": false,
    "pycharm": {
     "name": "#%%\n"
    }
   }
  },
  {
   "cell_type": "code",
   "execution_count": 34,
   "outputs": [
    {
     "data": {
      "text/plain": "1"
     },
     "execution_count": 34,
     "metadata": {},
     "output_type": "execute_result"
    }
   ],
   "source": [
    "array1 = [-5,-5,-3,0,0,1,1,5,5,5,5,5,5,5,5,15,15,15,15,20,20]\n",
    "solution(array1,-3)"
   ],
   "metadata": {
    "collapsed": false,
    "pycharm": {
     "name": "#%%\n"
    }
   }
  },
  {
   "cell_type": "code",
   "execution_count": 36,
   "outputs": [
    {
     "data": {
      "text/plain": "8"
     },
     "execution_count": 36,
     "metadata": {},
     "output_type": "execute_result"
    }
   ],
   "source": [
    "solution(array1,5)"
   ],
   "metadata": {
    "collapsed": false,
    "pycharm": {
     "name": "#%%\n"
    }
   }
  },
  {
   "cell_type": "code",
   "execution_count": 37,
   "outputs": [
    {
     "data": {
      "text/plain": "-1"
     },
     "execution_count": 37,
     "metadata": {},
     "output_type": "execute_result"
    }
   ],
   "source": [
    "solution(array1,36436)"
   ],
   "metadata": {
    "collapsed": false,
    "pycharm": {
     "name": "#%%\n"
    }
   }
  },
  {
   "cell_type": "code",
   "execution_count": null,
   "outputs": [],
   "source": [],
   "metadata": {
    "collapsed": false,
    "pycharm": {
     "name": "#%%\n"
    }
   }
  }
 ],
 "metadata": {
  "kernelspec": {
   "display_name": "Python 3",
   "language": "python",
   "name": "python3"
  },
  "language_info": {
   "codemirror_mode": {
    "name": "ipython",
    "version": 2
   },
   "file_extension": ".py",
   "mimetype": "text/x-python",
   "name": "python",
   "nbconvert_exporter": "python",
   "pygments_lexer": "ipython2",
   "version": "2.7.6"
  }
 },
 "nbformat": 4,
 "nbformat_minor": 0
}